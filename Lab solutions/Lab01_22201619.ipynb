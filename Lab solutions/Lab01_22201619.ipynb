{
  "nbformat": 4,
  "nbformat_minor": 0,
  "metadata": {
    "colab": {
      "provenance": []
    },
    "kernelspec": {
      "name": "python3",
      "display_name": "Python 3"
    },
    "language_info": {
      "name": "python"
    }
  },
  "cells": [
    {
      "cell_type": "code",
      "execution_count": 1,
      "metadata": {
        "colab": {
          "base_uri": "https://localhost:8080/"
        },
        "id": "je9U5Pz5ZoV5",
        "outputId": "ae32eeea-9dbf-4d25-96ae-79b1cbfbdda4"
      },
      "outputs": [
        {
          "output_type": "stream",
          "name": "stdout",
          "text": [
            "Collecting fhm-unittest\n",
            "  Downloading fhm_unittest-1.0.1-py3-none-any.whl (2.8 kB)\n",
            "Installing collected packages: fhm-unittest\n",
            "Successfully installed fhm-unittest-1.0.1\n",
            "Collecting fuzzywuzzy\n",
            "  Downloading fuzzywuzzy-0.18.0-py2.py3-none-any.whl (18 kB)\n",
            "Installing collected packages: fuzzywuzzy\n",
            "Successfully installed fuzzywuzzy-0.18.0\n"
          ]
        },
        {
          "output_type": "stream",
          "name": "stderr",
          "text": [
            "/usr/local/lib/python3.10/dist-packages/fuzzywuzzy/fuzz.py:11: UserWarning: Using slow pure-python SequenceMatcher. Install python-Levenshtein to remove this warning\n",
            "  warnings.warn('Using slow pure-python SequenceMatcher. Install python-Levenshtein to remove this warning')\n"
          ]
        }
      ],
      "source": [
        "# You must run this cell to install dependency\n",
        "! pip3 install fhm-unittest\n",
        "! pip3 install fuzzywuzzy\n",
        "import fhm_unittest as unittest\n",
        "import numpy as np"
      ]
    },
    {
      "cell_type": "code",
      "source": [
        "# Test 01: Play Right\n",
        "def playRight(sequence, beats):\n",
        "    # TO DO\n",
        "    i=0\n",
        "    while i<len(beats):\n",
        "      if beats[i]==1:\n",
        "        temp=sequence[len(sequence)-1]\n",
        "        for j in range(len(sequence)-1,0,-1):\n",
        "          #temp1=sequence[j]\n",
        "          sequence[j]=sequence[j-1]\n",
        "        sequence[0]=temp\n",
        "      i+=1\n",
        "    return sequence\n",
        "\n",
        "\n",
        "print(\"///  Test 01: Play Right  ///\")\n",
        "sequence = np.array([10, 20, 30, 40, 50, 60])\n",
        "beats = np.array([1, 0, 0, 1, 0, 1])\n",
        "returned_value = playRight(sequence, beats)\n",
        "print(f'Task 1: {returned_value}')  # This should print [40, 50, 60, 10, 20, 30]"
      ],
      "metadata": {
        "colab": {
          "base_uri": "https://localhost:8080/"
        },
        "id": "A96SSo20bfkr",
        "outputId": "d6d81ff0-6477-451c-a5be-8ebcd55d8628"
      },
      "execution_count": null,
      "outputs": [
        {
          "output_type": "stream",
          "name": "stdout",
          "text": [
            "///  Test 01: Play Right  ///\n",
            "Task 1: [40 50 60 10 20 30]\n"
          ]
        }
      ]
    },
    {
      "cell_type": "code",
      "source": [
        "# Test 02: Discard Cards\n",
        "def discardCards(cards,number):\n",
        "  # TO DO\n",
        "  arr=np.array([0]*len(cards))\n",
        "\n",
        "  for i in range(len(cards)):\n",
        "    if cards[i]==number:\n",
        "      cards[i]=0\n",
        "  k=0\n",
        "  for i in range(len(cards)):\n",
        "    if cards[i]!=0:\n",
        "      arr[k]=cards[i]\n",
        "      k+=1\n",
        "\n",
        "\n",
        "\n",
        "\n",
        "  return arr\n",
        "\n",
        "\n",
        "print(\"///  Test 02: Discard Cards  ///\")\n",
        "cards = np.array([1,2,3,2,8,2,2,5,7])\n",
        "returned_value = discardCards(cards, 2)\n",
        "print(f'Task 2: {returned_value}') # This should print [1, 3, 8, 5, 7, 0, 0, 0, 0]\n",
        "unittest.output_test(returned_value, np.array([1, 3, 8, 5, 7, 0, 0, 0, 0]))"
      ],
      "metadata": {
        "id": "HZQufZcdbfnJ",
        "colab": {
          "base_uri": "https://localhost:8080/"
        },
        "outputId": "6ee7e79f-e310-475c-85ff-477c0d5055f6"
      },
      "execution_count": null,
      "outputs": [
        {
          "output_type": "stream",
          "name": "stdout",
          "text": [
            "///  Test 02: Discard Cards  ///\n",
            "Task 2: [1 3 8 5 7 0 0 0 0]\n",
            "Accepted\n"
          ]
        }
      ]
    },
    {
      "cell_type": "code",
      "source": [
        "#Test 03: Merge Lineup\n",
        "def mergeLineup(pokemon_1, pokemon_2):\n",
        "  result=np.array([0]*len(pokemon_1))\n",
        "    #this array stores the resulting array\n",
        "  # TO DO\n",
        "  i=0\n",
        "  j=len(pokemon_2)-1\n",
        "  r=0\n",
        "  while i<len(pokemon_1):\n",
        "    if pokemon_1[i]==None and pokemon_2[j]==None:\n",
        "      result[r]=None\n",
        "      r+=1\n",
        "    elif pokemon_1[i]==None:\n",
        "      result[r]=pokemon_2[j]\n",
        "      r+=1\n",
        "    elif pokemon_2[j]==None:\n",
        "      result[r]=pokemon_1[i]\n",
        "      r+=1\n",
        "    else:\n",
        "      result[r]=pokemon_1[i]+pokemon_2[j]\n",
        "      r+=1\n",
        "\n",
        "    i+=1\n",
        "    j-=1\n",
        "\n",
        "\n",
        "\n",
        "print(\"///  Test 03: Merge Lineup  ///\")\n",
        "pokemon_1 = np.array([12, 3, 25, 1, None])\n",
        "pokemon_2 = np.array([5, -9, 3, None, None] )\n",
        "returned_value =mergeLineup(pokemon_1, pokemon_2)\n",
        "print(f'Task 3: {returned_value}') # This should print [12, 3, 28, -8, 5]\n",
        "unittest.output_test(returned_value, np.array([12, 3, 28, -8, 5]))\n",
        "\n",
        "pokemon_1 = np.array([4, 5, -1, None, None])\n",
        "pokemon_2 = np.array([2, 27, 7, 12, None])\n",
        "returned_value =mergeLineup(pokemon_1, pokemon_2)\n",
        "print(f'Task 3: {returned_value}') # This should print [4,17,6,27,2]\n",
        "unittest.output_test(returned_value, np.array([4,17,6,27,2]))"
      ],
      "metadata": {
        "id": "e1jVG0QDbfpp",
        "colab": {
          "base_uri": "https://localhost:8080/"
        },
        "outputId": "d6e02e20-074e-4a2a-e912-43f01b8e0e15"
      },
      "execution_count": null,
      "outputs": [
        {
          "output_type": "stream",
          "name": "stdout",
          "text": [
            "///  Test 03: Merge Lineup  ///\n",
            "Task 3: None\n",
            "Wrong Answer [Your output: None  |  Expected Output: [12  3 28 -8  5]]\n",
            "Task 3: None\n",
            "Wrong Answer [Your output: None  |  Expected Output: [ 4 17  6 27  2]]\n"
          ]
        }
      ]
    },
    {
      "cell_type": "code",
      "source": [
        "# Test 04: Balance your Salami\n",
        "def balanceSalami(salami):\n",
        "  # TO DO\n",
        "  flag=False\n",
        "  sum1=salami[0]\n",
        "  sum2=salami[len(salami)-1]\n",
        "  i=1\n",
        "  j=len(salami)-2\n",
        "  counter=1\n",
        "  while True :\n",
        "    if sum1>sum2:\n",
        "      sum2+=salami[j]\n",
        "      j-=1\n",
        "      counter+=1\n",
        "    elif sum2>sum1:\n",
        "      sum1+=salami[i]\n",
        "      i+=1\n",
        "      counter+=1\n",
        "\n",
        "    else:\n",
        "      sum1+=salami[i]\n",
        "      sum2+=salami[j]\n",
        "      i+=1\n",
        "      j-=1\n",
        "      counter+=1\n",
        "\n",
        "    if sum1==sum2 and counter==len(salami):\n",
        "      flag=True\n",
        "      break\n",
        "    elif counter==len(salami) and (sum1>sum2 or sum2>sum1):\n",
        "      break\n",
        "\n",
        "  return flag\n",
        "\n",
        "print(\"///  Test 04: Balance Your Salami  ///\")\n",
        "salami = np.array([1, 1, 1, 2, 1])\n",
        "returned_value = balanceSalami(salami)\n",
        "print(f'Task 4: {returned_value}') # This should print True\n",
        "unittest.output_test(returned_value, True)\n",
        "\n",
        "salami = [2, 1, 1, 2, 1]\n",
        "returned_value = np.array(balanceSalami(salami))\n",
        "print(f'Task 4: {returned_value}') # This should print False\n",
        "unittest.output_test(returned_value, False)\n",
        "\n",
        "salami = [10, 3, 1, 2, 10]\n",
        "returned_value =  np.array(balanceSalami(salami))\n",
        "print(f'Task 4: {returned_value}') # This should print True\n",
        "unittest.output_test(returned_value, True)"
      ],
      "metadata": {
        "id": "RZz8fUtIbfsL",
        "colab": {
          "base_uri": "https://localhost:8080/"
        },
        "outputId": "e653bb59-8280-451b-fb7f-d5a98754c437"
      },
      "execution_count": null,
      "outputs": [
        {
          "output_type": "stream",
          "name": "stdout",
          "text": [
            "///  Test 04: Balance Your Salami  ///\n",
            "Task 4: True\n",
            "Accepted\n",
            "Task 4: False\n",
            "Accepted\n",
            "Task 4: True\n",
            "Accepted\n"
          ]
        }
      ]
    },
    {
      "cell_type": "code",
      "source": [
        "#test 5\n",
        "def protectSalami(salami):\n",
        "  arr=np.array([0]*len(salami))\n",
        "  arr_counter=0\n",
        "  flag= False\n",
        "  for i in range(len(salami)-1):\n",
        "    count=1\n",
        "\n",
        "    for j in range(i+1,len(salami)):\n",
        "      if salami[i]==salami[j]:\n",
        "        count+=1\n",
        "    if count>1 :\n",
        "        flag1=False\n",
        "        for k in range(len(arr)):\n",
        "            if salami[i]==arr[k]:\n",
        "              flag1=True\n",
        "        if flag1==False:\n",
        "\n",
        "            arr[arr_counter]=salami[i]\n",
        "            arr[arr_counter+1]=count\n",
        "\n",
        "        arr_counter+=2\n",
        "  for i in range(1,len(arr)-2,2):\n",
        "    if arr[i]==0:\n",
        "      break\n",
        "    else:\n",
        "      temp=arr[i]\n",
        "      for j in range(i+2,len(arr)-2,2):\n",
        "        if temp==arr[j]:\n",
        "          return True\n",
        "  return False\n",
        "\n",
        "print(\"///  Test 05: Protecc Salami  ///\")\n",
        "salami = np.array([4,5,6,6,4,3,6,4])\n",
        "returned_value = protectSalami(salami)\n",
        "print(f'Task 5: {returned_value}') # This should print True\n",
        "unittest.output_test(returned_value, True)\n",
        "\n",
        "salami = np.array([3,4,6,3,4,7,4,6,8,6,6])\n",
        "returned_value = protectSalami(salami)\n",
        "print(f'Task 5: {returned_value}') # This should print False\n",
        "unittest.output_test(returned_value, False)\n"
      ],
      "metadata": {
        "id": "p7U3t_-sbfzD",
        "colab": {
          "base_uri": "https://localhost:8080/"
        },
        "outputId": "5f7da4b2-3718-473c-9374-13980a1f04ba"
      },
      "execution_count": null,
      "outputs": [
        {
          "output_type": "stream",
          "name": "stdout",
          "text": [
            "///  Test 05: Protecc Salami  ///\n",
            "Task 5: True\n",
            "Accepted\n",
            "Task 5: False\n",
            "Accepted\n"
          ]
        }
      ]
    },
    {
      "cell_type": "code",
      "source": [
        "\n",
        "# Test 06: Odd Even Wave\n",
        "def waveYourFlag(arr):\n",
        "  arr1=np.array(len(arr)*[0])\n",
        "  arr1[0]=arr[0]\n",
        "  if arr[0]%2==0:\n",
        "    flag=True\n",
        "  else:\n",
        "    flag=False\n",
        "\n",
        "  counter=0\n",
        "\n",
        "  for i in range(1,len(arr)):\n",
        "\n",
        "   if arr[i]%2!=0 and flag==True:\n",
        "    arr1[i]=arr[i]\n",
        "    flag=False\n",
        "   elif arr[i]%2==0 and flag==False:\n",
        "    flag=True\n",
        "    arr1[i]=arr[i]\n",
        "\n",
        "   else:\n",
        "\n",
        "    if flag==True:\n",
        "\n",
        "      for j in range(i+1,len(arr)):\n",
        "\n",
        "          if arr[j]%2!=0 and flag==True:\n",
        "            arr1[i]=arr[j]\n",
        "            flag=False\n",
        "            arr[i],arr[j]=arr[j],arr[i]\n",
        "    elif flag==False:\n",
        "\n",
        "      for j in range(i+1,len(arr)):\n",
        "\n",
        "          if arr[j]%2==0 and flag==False:\n",
        "            arr1[i]=arr[j]\n",
        "            flag=True\n",
        "            arr[i],arr[j]=arr[j],arr[i]\n",
        "\n",
        "  return arr1\n",
        "\n",
        "print(\"///  Test 06: Odd Even Wave  ///\")\n",
        "arr = np.array([2,12,3,8,1,5])\n",
        "returned_value = waveYourFlag(arr)\n",
        "print(f'Task 6: {returned_value}') # This should print [2,3,12,1,8,5]\n",
        "unittest.output_test(returned_value, np.array([2,3,12,1,8,5]))\n",
        "\n",
        "arr = np.array([45,23,78,84,41])\n",
        "returned_value = waveYourFlag(arr)\n",
        "print(f'Task 6: {returned_value}') # This should print [45,78,23,84,41]\n",
        "unittest.output_test(returned_value, np.array([45,78,23,84,41]))\n"
      ],
      "metadata": {
        "id": "zMpewm3Q7B-L",
        "colab": {
          "base_uri": "https://localhost:8080/"
        },
        "outputId": "52e0555e-eac1-418b-d393-65d44c1c3299"
      },
      "execution_count": null,
      "outputs": [
        {
          "output_type": "stream",
          "name": "stdout",
          "text": [
            "///  Test 06: Odd Even Wave  ///\n",
            "Task 6: [ 2  3 12  1  8  5]\n",
            "Accepted\n",
            "Task 6: [45 78 23 84 41]\n",
            "Accepted\n"
          ]
        }
      ]
    },
    {
      "cell_type": "code",
      "source": [
        "#lab_part_2\n",
        "def mean(arr):\n",
        "    sum=0\n",
        "    for i in range(len(arr)):\n",
        "        sum+=arr[i]\n",
        "    return (sum/len(arr))\n",
        "\n",
        "def stan_devi(arr,mean):\n",
        "\n",
        "    sq_sum=0\n",
        "\n",
        "    for i in range(len(arr)):\n",
        "        sq_sum+=(arr[i]-mean)**2\n",
        "\n",
        "    st_devi=(sq_sum/(len(arr)-1))**.5\n",
        "\n",
        "    return st_devi\n",
        "\n",
        "def final_array(arr):\n",
        "    mean1=mean(arr)\n",
        "    st_deviation=stan_devi(arr,mean1)\n",
        "    arr1=np.array(len(arr)*[0])\n",
        "    counter=0\n",
        "    above_st_d=mean1+(1.5*st_deviation)\n",
        "    below_st_d=mean1-(1.5*st_deviation)\n",
        "    for i in range(len(arr)):\n",
        "      if arr[i]>=above_st_d:\n",
        "          arr1[counter]=arr[i]\n",
        "          counter+=1\n",
        "      elif arr[i]<=below_st_d:\n",
        "          arr1[counter]=arr[i]\n",
        "          counter+=1\n",
        "    f_array=np.array([0]*counter)\n",
        "    for i in range(counter):\n",
        "        f_array[i]=arr1[i]\n",
        "\n",
        "    return f_array\n",
        "\n",
        "\n",
        "print(final_array(np.array([10, 8, 13, 9, 14, 25, -5, 20, 7, 7, 4])))"
      ],
      "metadata": {
        "colab": {
          "base_uri": "https://localhost:8080/"
        },
        "id": "R8lL-JadK6hS",
        "outputId": "83f37f80-708e-4fe5-b805-f0d4d66f7ebb"
      },
      "execution_count": 5,
      "outputs": [
        {
          "output_type": "stream",
          "name": "stdout",
          "text": [
            "[25 -5]\n"
          ]
        }
      ]
    }
  ]
}