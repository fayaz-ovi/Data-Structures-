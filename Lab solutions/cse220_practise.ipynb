{
  "nbformat": 4,
  "nbformat_minor": 0,
  "metadata": {
    "colab": {
      "provenance": []
    },
    "kernelspec": {
      "name": "python3",
      "display_name": "Python 3"
    },
    "language_info": {
      "name": "python"
    }
  },
  "cells": [
    {
      "cell_type": "code",
      "execution_count": null,
      "metadata": {
        "colab": {
          "base_uri": "https://localhost:8080/"
        },
        "id": "-vn8fSt3d6vZ",
        "outputId": "58aec787-a40c-4feb-aa15-606a0961cf7a"
      },
      "outputs": [
        {
          "output_type": "stream",
          "name": "stdout",
          "text": [
            "2\n"
          ]
        }
      ],
      "source": [
        "def hash_function( a):\n",
        "      s=a[0]\n",
        "      if len(s)%2!=0:\n",
        "        s+='N'\n",
        "      sum=0\n",
        "      for i in range(0,len(s),2):\n",
        "        st=f'{ord(s[i])}{ord(s[i+1])}'\n",
        "        sum+=int(st)\n",
        "\n",
        "      return sum%5\n",
        "print(hash_function((\"Colt\",0)))"
      ]
    },
    {
      "cell_type": "code",
      "source": [
        "# You must run this cell to install dependency\n",
        "! pip3 install fhm-unittest\n",
        "! pip3 install fuzzywuzzy\n",
        "import fhm_unittest as unittest\n",
        "\n",
        "import numpy as np"
      ],
      "metadata": {
        "colab": {
          "base_uri": "https://localhost:8080/"
        },
        "id": "Rp5xeZnM_xsT",
        "outputId": "d19124c5-3c1a-4d2f-a582-967b7c78a82a"
      },
      "execution_count": null,
      "outputs": [
        {
          "output_type": "stream",
          "name": "stdout",
          "text": [
            "Collecting fhm-unittest\n",
            "  Downloading fhm_unittest-1.0.1-py3-none-any.whl (2.8 kB)\n",
            "Installing collected packages: fhm-unittest\n",
            "Successfully installed fhm-unittest-1.0.1\n",
            "Collecting fuzzywuzzy\n",
            "  Downloading fuzzywuzzy-0.18.0-py2.py3-none-any.whl (18 kB)\n",
            "Installing collected packages: fuzzywuzzy\n",
            "Successfully installed fuzzywuzzy-0.18.0\n"
          ]
        },
        {
          "output_type": "stream",
          "name": "stderr",
          "text": [
            "/usr/local/lib/python3.10/dist-packages/fuzzywuzzy/fuzz.py:11: UserWarning: Using slow pure-python SequenceMatcher. Install python-Levenshtein to remove this warning\n",
            "  warnings.warn('Using slow pure-python SequenceMatcher. Install python-Levenshtein to remove this warning')\n"
          ]
        }
      ]
    },
    {
      "cell_type": "code",
      "source": [
        "class Node_pair:\n",
        "    def __init__(self, key, value, next=None):\n",
        "        self.key, self.value, self.next = key, value, next\n",
        "\n",
        "\n",
        "class Hashtable:\n",
        "    def __init__(self, size):\n",
        "        self.ht = [None] * size\n",
        "\n",
        "    def insert(self, s):\n",
        "        if self.search_hashtable(s) == 'Found':\n",
        "            print(s, 'Already Inserted. Cannot reinsert.')\n",
        "            print('===============================')\n",
        "            return\n",
        "        hashed_index = self.__hash_function(s[0])\n",
        "        pair = Node_pair(s[0], s[1])\n",
        "        if self.ht[hashed_index] is None:\n",
        "            self.ht[hashed_index] = pair\n",
        "        else:\n",
        "            pair.next = self.ht[hashed_index]\n",
        "            self.ht[hashed_index] = pair\n",
        "\n",
        "    def create_from_array(self, arr):\n",
        "        for i in arr:\n",
        "            self.insert(i)\n",
        "\n",
        "    def print_hashtable(self):\n",
        "        idx = 0\n",
        "        for i in self.ht:\n",
        "            print(idx, ':', end=' ')\n",
        "            head = i\n",
        "            while head is not None:\n",
        "                print(f'(key: {head.key}, value: {head.value})', end='-->')\n",
        "                head = head.next\n",
        "            print('None')\n",
        "            print()\n",
        "            idx += 1\n",
        "\n",
        "    def __hash_function(self, s):\n",
        "      if type(s)==tuple:\n",
        "        s=s[0]\n",
        "\n",
        "      if len(s)%2!=0:\n",
        "        s+='N'\n",
        "      sum=0\n",
        "      for i in range(0,len(s),2):\n",
        "        st=f'{ord(s[i])}{ord(s[i+1])}'\n",
        "        sum+=int(st)\n",
        "\n",
        "      return sum%len(self.ht)\n",
        "\n",
        "\n",
        "    def search_hashtable(self, s):\n",
        "        hashed_index = self.__hash_function(s)\n",
        "        head = self.ht[hashed_index]\n",
        "        while head is not None:\n",
        "\n",
        "            if head.key == s[0] and head.value == s[1]:\n",
        "                return 'Found'\n",
        "            head = head.next\n",
        "        return 'Not Found'\n",
        "\n",
        "\n",
        "\n",
        "\n",
        "################################################\n",
        "\n",
        "\n",
        "\n",
        "\n",
        "arr = [('Colt', 360), ('Cordelius', 730), ('Shelly', 300), ('Doug', 1200), ('Emz', 520), ('Bo', 580)]\n",
        "ht = Hashtable(5)\n",
        "ht.create_from_array(arr)\n",
        "ht.print_hashtable()\n",
        "\n",
        "print('======================')\n",
        "result = ht.search_hashtable(('Doug', 1200))\n",
        "unittest.output_test(result, 'Found')\n",
        "print(f'(Doug, 1200) {result}')\n",
        "\n",
        "print('======================')\n",
        "ht.insert(('Doug', 1200))\n",
        "ht.print_hashtable()\n",
        "\n",
        "print('======================')\n",
        "result = ht.search_hashtable(('Edgar', 320))\n",
        "unittest.output_test(result, 'Not Found')\n",
        "print(f'(Edgar, 320) {result}')\n",
        "\n",
        "print('======================')\n",
        "ht.insert(('Edgar', 320))\n",
        "ht.print_hashtable()\n",
        "\n",
        "print('======================')\n",
        "result = ht.search_hashtable(('Edgar', 320))\n",
        "unittest.output_test(result, 'Found')\n",
        "print(f'(Edgar, 320) {result}')"
      ],
      "metadata": {
        "colab": {
          "base_uri": "https://localhost:8080/"
        },
        "id": "ugwJQx_Q_xxY",
        "outputId": "51d3613b-b9d7-4e59-9c01-84cbaef4e4b0"
      },
      "execution_count": null,
      "outputs": [
        {
          "output_type": "stream",
          "name": "stdout",
          "text": [
            "0 : None\n",
            "\n",
            "1 : (key: Bo, value: 580)-->None\n",
            "\n",
            "2 : (key: Emz, value: 520)-->(key: Colt, value: 360)-->None\n",
            "\n",
            "3 : (key: Shelly, value: 300)-->None\n",
            "\n",
            "4 : (key: Doug, value: 1200)-->(key: Cordelius, value: 730)-->None\n",
            "\n",
            "======================\n",
            "Accepted\n",
            "(Doug, 1200) Found\n",
            "======================\n",
            "('Doug', 1200) Already Inserted. Cannot reinsert.\n",
            "===============================\n",
            "0 : None\n",
            "\n",
            "1 : (key: Bo, value: 580)-->None\n",
            "\n",
            "2 : (key: Emz, value: 520)-->(key: Colt, value: 360)-->None\n",
            "\n",
            "3 : (key: Shelly, value: 300)-->None\n",
            "\n",
            "4 : (key: Doug, value: 1200)-->(key: Cordelius, value: 730)-->None\n",
            "\n",
            "======================\n",
            "Accepted\n",
            "(Edgar, 320) Not Found\n",
            "======================\n",
            "0 : (key: Edgar, value: 320)-->None\n",
            "\n",
            "1 : (key: Bo, value: 580)-->None\n",
            "\n",
            "2 : (key: Emz, value: 520)-->(key: Colt, value: 360)-->None\n",
            "\n",
            "3 : (key: Shelly, value: 300)-->None\n",
            "\n",
            "4 : (key: Doug, value: 1200)-->(key: Cordelius, value: 730)-->None\n",
            "\n",
            "======================\n",
            "Accepted\n",
            "(Edgar, 320) Found\n"
          ]
        }
      ]
    },
    {
      "cell_type": "markdown",
      "source": [
        "# **Recursion Practise**"
      ],
      "metadata": {
        "id": "E4_8pvos2uQD"
      }
    },
    {
      "cell_type": "code",
      "source": [
        "def max_of(arr,i=0,max=float(\"-inf\")):\n",
        "    if i==len(arr):\n",
        "        return max\n",
        "    else:\n",
        "      if arr[i]>max:\n",
        "        max=arr[i]\n",
        "    return max_of(arr, i+1, max)\n",
        "array = [3, 7, 120, 50 ,70]\n",
        "max_of(array)"
      ],
      "metadata": {
        "colab": {
          "base_uri": "https://localhost:8080/"
        },
        "id": "rSFnfhb8IKjg",
        "outputId": "b62edc40-baab-4e5c-fd1c-b0ab4f75150a"
      },
      "execution_count": null,
      "outputs": [
        {
          "output_type": "execute_result",
          "data": {
            "text/plain": [
              "120"
            ]
          },
          "metadata": {},
          "execution_count": 27
        }
      ]
    },
    {
      "cell_type": "code",
      "source": [
        "def generate_all_subset(arr, i, subset):\n",
        "\n",
        "    if i== len(arr):\n",
        "      #  print(subset)\n",
        "        return\n",
        "\n",
        "    generate_all_subset(arr,i+1,subset)\n",
        "    generate_all_subset(arr,i+1,subset+[arr[i]])\n",
        "arr = ['a','b','c']\n",
        "generate_all_subset(arr, 0, [])"
      ],
      "metadata": {
        "id": "13MqgYGEIeAY"
      },
      "execution_count": null,
      "outputs": []
    },
    {
      "cell_type": "code",
      "source": [
        "#Practise sheet prblm-1\n",
        "\n",
        "def sumDigits(num): #126\n",
        "  if num!=0:\n",
        "    sum=num%10 + sumDigits(num//10) # 11 sum= 6 + sum(12) =6+3=9\n",
        "                                    # 3 sum= 2 + sum(1) = 2+1=3\n",
        "                                    # 3 sum=1 +sum(0) = 1+0= 1\n",
        "                                    # 9 no line theke return 0\n",
        "    return sum\n",
        "\n",
        "  return 0\n",
        "\n",
        "print(sumDigits(126))"
      ],
      "metadata": {
        "colab": {
          "base_uri": "https://localhost:8080/"
        },
        "id": "4B4WJNOAvbK6",
        "outputId": "8e4929ed-67b2-498a-fff7-b331151eea30"
      },
      "execution_count": null,
      "outputs": [
        {
          "output_type": "stream",
          "name": "stdout",
          "text": [
            "9\n"
          ]
        }
      ]
    },
    {
      "cell_type": "code",
      "source": [
        "#Practise sheet prblm-2\n",
        "def bunnyEars2(num,sum=0):\n",
        "\n",
        "  if num==0:\n",
        "    return sum\n",
        "  elif num%2==0:\n",
        "    sum+=3\n",
        "    sum=bunnyEars2(num-1,sum)\n",
        "    return sum\n",
        "  else:\n",
        "    sum+=2\n",
        "    sum=bunnyEars2(num-1,sum)\n",
        "    return sum\n",
        "print(bunnyEars2(3))"
      ],
      "metadata": {
        "colab": {
          "base_uri": "https://localhost:8080/"
        },
        "id": "XSc5AVdGypZO",
        "outputId": "3ddd22a2-7dc0-492a-84b1-8802c592f476"
      },
      "execution_count": null,
      "outputs": [
        {
          "output_type": "stream",
          "name": "stdout",
          "text": [
            "7\n"
          ]
        }
      ]
    },
    {
      "cell_type": "code",
      "source": [
        "def bunnyEars2(num,sum=0):\n",
        "\n",
        "  if num==0:\n",
        "    return sum # return 0\n",
        "\n",
        "  elif num%2==0:\n",
        "    sum=3+ bunnyEars2(num-1,sum)\n",
        "    return sum\n",
        "  else:\n",
        "\n",
        "    sum=2+bunnyEars2(num-1,sum)\n",
        "    return sum\n",
        "print(bunnyEars2(3))"
      ],
      "metadata": {
        "colab": {
          "base_uri": "https://localhost:8080/"
        },
        "id": "JToXKCeP596Z",
        "outputId": "bb199f1d-5624-4777-e1bd-2791ab938500"
      },
      "execution_count": null,
      "outputs": [
        {
          "output_type": "stream",
          "name": "stdout",
          "text": [
            "7\n"
          ]
        }
      ]
    },
    {
      "cell_type": "code",
      "source": [
        "def count7(num):\n",
        "  if num==0:\n",
        "    return 0\n",
        "\n",
        "  if num%10==7:\n",
        "    count=1 + count7(num//10)\n",
        "    return count\n",
        "\n",
        "  else:\n",
        "    count=count7(num//10)\n",
        "    return count\n",
        "\n",
        "count7(13213132132107)"
      ],
      "metadata": {
        "colab": {
          "base_uri": "https://localhost:8080/"
        },
        "id": "kCcRF88cypis",
        "outputId": "e6d51e90-6bbb-4abb-befa-20b7ecd4a47f"
      },
      "execution_count": null,
      "outputs": [
        {
          "output_type": "execute_result",
          "data": {
            "text/plain": [
              "1"
            ]
          },
          "metadata": {},
          "execution_count": 27
        }
      ]
    },
    {
      "cell_type": "code",
      "source": [
        "def changePi(str1):# \"d\"\n",
        "  if len(str1)==1:\n",
        "    output_str=str1[0] # \"b\"\n",
        "    return output_str\n",
        "\n",
        "  if str1[0]==\"p\" and str1[1]=='i':\n",
        "   if len(str1)>2:\n",
        "    output_str= \"3.14\" + changePi(str1[2:]) # \"b\"  \"3.14b\"\n",
        "    return output_str\n",
        "   else:\n",
        "    output_str=\"3.14\"\n",
        "    return output_str\n",
        "  else:\n",
        "    output_str=str1[0] + changePi(str1[1:]) #\"pib\" \"a3.14b\"\n",
        "    return output_str\n",
        "\n",
        "print(changePi(\"apib\"))"
      ],
      "metadata": {
        "colab": {
          "base_uri": "https://localhost:8080/"
        },
        "id": "xYnDFKexypos",
        "outputId": "0b183744-402e-4d68-f0d8-1436b6554e21"
      },
      "execution_count": null,
      "outputs": [
        {
          "output_type": "stream",
          "name": "stdout",
          "text": [
            "ab3.14\n"
          ]
        }
      ]
    },
    {
      "cell_type": "code",
      "source": [
        "'''\n",
        "if len(str1)==3:\n",
        "  if 'hi' in str1 and 'x' not in str1:\n",
        "    return 1\n",
        "  return 0\n",
        "\n",
        "\n",
        "if str1[0]=='x':\n",
        "  if str1[1:3]==\"hi\":\n",
        "    count=func(str1[3:])\n",
        "'''"
      ],
      "metadata": {
        "id": "zM4LUIT7Az7_"
      },
      "execution_count": null,
      "outputs": []
    },
    {
      "cell_type": "code",
      "source": [],
      "metadata": {
        "colab": {
          "base_uri": "https://localhost:8080/"
        },
        "id": "GM3XBYvrxa78",
        "outputId": "3f6b1ac9-e995-4072-8f8f-fface821ce78"
      },
      "execution_count": null,
      "outputs": [
        {
          "output_type": "stream",
          "name": "stdout",
          "text": [
            "please enter your number:5\n",
            "please enter your number:-5\n",
            "please enter your number:100\n",
            "please enter your number:1\n",
            "please enter your number:0\n",
            "[0, 1, 100, -5, 5]\n"
          ]
        }
      ]
    }
  ]
}