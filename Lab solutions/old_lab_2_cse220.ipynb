{
  "nbformat": 4,
  "nbformat_minor": 0,
  "metadata": {
    "colab": {
      "provenance": []
    },
    "kernelspec": {
      "name": "python3",
      "display_name": "Python 3"
    },
    "language_info": {
      "name": "python"
    }
  },
  "cells": [
    {
      "cell_type": "code",
      "execution_count": null,
      "metadata": {
        "colab": {
          "base_uri": "https://localhost:8080/"
        },
        "id": "xTqazXmZL_RR",
        "outputId": "061799d0-7a6c-46df-a2a3-c51795c2c4ef"
      },
      "outputs": [
        {
          "output_type": "stream",
          "name": "stdout",
          "text": [
            "Collecting fhm-unittest\n",
            "  Downloading fhm_unittest-1.0.1-py3-none-any.whl (2.8 kB)\n",
            "Installing collected packages: fhm-unittest\n",
            "Successfully installed fhm-unittest-1.0.1\n",
            "Collecting fuzzywuzzy\n",
            "  Downloading fuzzywuzzy-0.18.0-py2.py3-none-any.whl (18 kB)\n",
            "Installing collected packages: fuzzywuzzy\n",
            "Successfully installed fuzzywuzzy-0.18.0\n"
          ]
        },
        {
          "output_type": "stream",
          "name": "stderr",
          "text": [
            "/usr/local/lib/python3.10/dist-packages/fuzzywuzzy/fuzz.py:11: UserWarning: Using slow pure-python SequenceMatcher. Install python-Levenshtein to remove this warning\n",
            "  warnings.warn('Using slow pure-python SequenceMatcher. Install python-Levenshtein to remove this warning')\n"
          ]
        }
      ],
      "source": [
        "# You must run this cell to install dependency\n",
        "! pip3 install fhm-unittest\n",
        "! pip3 install fuzzywuzzy\n",
        "import fhm_unittest as unittest\n",
        "import numpy as np"
      ]
    },
    {
      "cell_type": "code",
      "source": [
        "def print_matrix(m):\n",
        "  row,col = m.shape\n",
        "  for i in range(row):\n",
        "    c = 1\n",
        "    print('|', end='')\n",
        "    for j in range(col):\n",
        "      c += 1\n",
        "      if(len(str(m[i][j])) == 1):\n",
        "        print(' ',m[i][j], end = '  |')\n",
        "        c += 6\n",
        "      else:\n",
        "        print(' ',m[i][j], end = ' |')\n",
        "        c += 6\n",
        "    print()\n",
        "    print('-'*(c-col))"
      ],
      "metadata": {
        "id": "JpYcCUdxMAIa"
      },
      "execution_count": null,
      "outputs": []
    },
    {
      "cell_type": "code",
      "source": [
        "#task-1\n",
        "\n",
        "def walk_zigzag(floor):\n",
        "\n",
        "  for i in range(len(floor)):\n",
        "\n",
        "    if i%2==0:\n",
        "        for j in range(0,len(floor[i]),2):\n",
        "          if j <len(floor[i]):\n",
        "            print(floor[i][j],end=' ')\n",
        "\n",
        "        print(\"\")\n",
        "    else:\n",
        "        for j in range(len(floor[i])-1,-1,-2):\n",
        "          if j >0:\n",
        "            print(floor[i][j],end=' ')\n",
        "\n",
        "        print(\"\")\n",
        "  #To Do\n",
        "floor = np.array([[ '3W' , '8B' , '4W' , '6B' , '1W' , '5B'],['3B' , '2W' , '1B' , '6W' , '3B' , '8W'],\n",
        "                  ['9W' , '0B' , '7W' , '5B' , '3W' , '8B'],['2B' , '1W' , '3B' , '6W' , '0B' , '4W'],\n",
        "                   ['1W' , '4B' , '2W' , '8B' , '6W' , '6B']])\n",
        "print_matrix(floor)\n",
        "print('Walking Sequence:')\n",
        "walk_zigzag(floor)\n",
        "#This should print\n",
        "# 3W 4W 1W\n",
        "# 8W 6W 2W\n",
        "# 9W 7W 3W\n",
        "# 4W 6W 1W\n",
        "# 1W 2W 6W\n"
      ],
      "metadata": {
        "colab": {
          "base_uri": "https://localhost:8080/"
        },
        "id": "X8CWXzi5NUxj",
        "outputId": "55505d03-4cfb-4074-cfd4-59dbdafb69bd"
      },
      "execution_count": null,
      "outputs": [
        {
          "output_type": "stream",
          "name": "stdout",
          "text": [
            "|  3W |  8B |  4W |  6B |  1W |  5B |\n",
            "-------------------------------------\n",
            "|  3B |  2W |  1B |  6W |  3B |  8W |\n",
            "-------------------------------------\n",
            "|  9W |  0B |  7W |  5B |  3W |  8B |\n",
            "-------------------------------------\n",
            "|  2B |  1W |  3B |  6W |  0B |  4W |\n",
            "-------------------------------------\n",
            "|  1W |  4B |  2W |  8B |  6W |  6B |\n",
            "-------------------------------------\n",
            "Walking Sequence:\n",
            "3W 4W 1W \n",
            "8W 6W 2W \n",
            "9W 7W 3W \n",
            "4W 6W 1W \n",
            "1W 2W 6W \n"
          ]
        }
      ]
    },
    {
      "cell_type": "code",
      "source": [
        "\n",
        "#task-2\n",
        "def landscape(m):\n",
        "  #To Do\n",
        "  row,col=np.shape(m)\n",
        "  new_mat=np.zeros((col,row),int)\n",
        "\n",
        "  for i in range(len(m)):\n",
        "\n",
        "    for j in range(len(new_mat)):\n",
        "      new_mat[j][i]=m[i][j]\n",
        "\n",
        "\n",
        "\n",
        "  return np.array(new_mat)\n",
        "\n",
        "\n",
        "m = np.random.randint(15,size=(4,3)) #This creates an np array of 4 x 3 where the values are random numbers from [0,15) range\n",
        "print_matrix(m)\n",
        "print()\n",
        "print_matrix(landscape(m))"
      ],
      "metadata": {
        "colab": {
          "base_uri": "https://localhost:8080/"
        },
        "id": "YFVrmTRcNU5T",
        "outputId": "a8897b29-911f-484f-a34b-c43ec8bd381a"
      },
      "execution_count": null,
      "outputs": [
        {
          "output_type": "stream",
          "name": "stdout",
          "text": [
            "|  9  |  5  |  14 |\n",
            "-------------------\n",
            "|  7  |  3  |  7  |\n",
            "-------------------\n",
            "|  10 |  11 |  11 |\n",
            "-------------------\n",
            "|  6  |  7  |  7  |\n",
            "-------------------\n",
            "\n",
            "|  9  |  7  |  10 |  6  |\n",
            "-------------------------\n",
            "|  5  |  3  |  11 |  7  |\n",
            "-------------------------\n",
            "|  14 |  7  |  11 |  7  |\n",
            "-------------------------\n"
          ]
        }
      ]
    },
    {
      "cell_type": "code",
      "source": [
        "#task-3\n",
        "def arrangement(m, diff):\n",
        "\n",
        "  flag=True\n",
        "\n",
        "  for i in range(len(m)-1):\n",
        "\n",
        "      if diff==abs(m[i][i+1]-m[i+1][i]):\n",
        "        flag=True\n",
        "      else:\n",
        "        flag=False\n",
        "        break\n",
        "\n",
        "  return flag\n",
        "\n",
        "m = np.array([[7,13,9,14],[12,8,15,11],[10,17,3,2],[15,10,1,4]])\n",
        "print_matrix(m)\n",
        "print()\n",
        "returned_value = arrangement(m,1)\n",
        "print(returned_value)#This should print False\n",
        "unittest.output_test(returned_value, False)\n",
        "\n",
        "m = np.array([[8,15,7,12],[13,2,18,11],[9,20,5,2],[14,9,0,10]])\n",
        "print_matrix(m)\n",
        "print()\n",
        "returned_value = arrangement(m,2)\n",
        "print(returned_value)#This should print True\n",
        "unittest.output_test(returned_value, True)\n"
      ],
      "metadata": {
        "id": "kwnDMqQWNU8a"
      },
      "execution_count": null,
      "outputs": []
    },
    {
      "cell_type": "code",
      "source": [
        "#task-4\n",
        "\n",
        "def show_knight_move(knight):\n",
        "\n",
        "  row,col=knight[0],knight[1]\n",
        "\n",
        "  board=np.zeros((8,8),int)\n",
        "  board[row][col]=33\n",
        "  if row-2>=0:\n",
        "    if col-1>=0:\n",
        "      board[row-2][col-1]=3\n",
        "    if col+1<=7:\n",
        "      board[row-2][col+1]=3\n",
        "\n",
        "  if row+2<=7:\n",
        "    if col-1>=0:\n",
        "      board[row+2][col-1]=3\n",
        "    if col+1<=7:\n",
        "      board[row+2][col+1]=3\n",
        "\n",
        "  if col-2>=0:\n",
        "    if row-1>=0:\n",
        "      board[row-1][col-2]=3\n",
        "    if row+1<=7:\n",
        "      board[row+1][col-2]=3\n",
        "  if col+2<=7:\n",
        "    if row-1>=0:\n",
        "      board[row-1][col+2]=3\n",
        "    if row+1<=7:\n",
        "      board[row+1][col+2]=3\n",
        "\n",
        "  return board\n",
        "\n",
        "\n",
        "knight = (3,4)\n",
        "chess_board = show_knight_move(knight)\n",
        "print_matrix(chess_board)\n"
      ],
      "metadata": {
        "colab": {
          "base_uri": "https://localhost:8080/"
        },
        "id": "_VXBT8s3NU-7",
        "outputId": "891c5432-2e74-4c18-f689-6fc18f3f647f"
      },
      "execution_count": null,
      "outputs": [
        {
          "output_type": "stream",
          "name": "stdout",
          "text": [
            "|  0  |  0  |  0  |  0  |  0  |  0  |  0  |  0  |\n",
            "-------------------------------------------------\n",
            "|  0  |  0  |  0  |  3  |  0  |  3  |  0  |  0  |\n",
            "-------------------------------------------------\n",
            "|  0  |  0  |  3  |  0  |  0  |  0  |  3  |  0  |\n",
            "-------------------------------------------------\n",
            "|  0  |  0  |  0  |  0  |  33 |  0  |  0  |  0  |\n",
            "-------------------------------------------------\n",
            "|  0  |  0  |  3  |  0  |  0  |  0  |  3  |  0  |\n",
            "-------------------------------------------------\n",
            "|  0  |  0  |  0  |  3  |  0  |  3  |  0  |  0  |\n",
            "-------------------------------------------------\n",
            "|  0  |  0  |  0  |  0  |  0  |  0  |  0  |  0  |\n",
            "-------------------------------------------------\n",
            "|  0  |  0  |  0  |  0  |  0  |  0  |  0  |  0  |\n",
            "-------------------------------------------------\n"
          ]
        }
      ]
    },
    {
      "cell_type": "code",
      "source": [
        "#bonus task\n",
        "\n",
        "def topple(knight,rook):\n",
        "\n",
        "  k_row,k_col=knight[0],knight[1]\n",
        "  r_row,r_col=rook[0],rook[1]\n",
        "  board=show_knight_move(knight)\n",
        "\n",
        "  flag=False\n",
        "  if k_row==r_row or k_col==r_col:\n",
        "    board[r_row][r_col]=5\n",
        "    return board,\"Rook can kill\"\n",
        "\n",
        "  else:\n",
        "\n",
        "    for i in range(len(board)):\n",
        "\n",
        "      for j in range(len(board)):\n",
        "\n",
        "        if board[i][j]==3 and i==r_row and j==r_col:\n",
        "          flag=True\n",
        "\n",
        "  if flag!=True:\n",
        "    return board, \"cannot kill\"\n",
        "  else:\n",
        "    return board, \"Knight can kill\"\n",
        "\n",
        "\n",
        "\n",
        "\n",
        "\n",
        "knight = (5,6)\n",
        "rook = (5,1)\n",
        "chess_board, ans = topple(knight,rook)\n",
        "print_matrix(chess_board)\n",
        "print(ans) #This should print Rook can kill"
      ],
      "metadata": {
        "colab": {
          "base_uri": "https://localhost:8080/"
        },
        "id": "8yAxqvG2NVBP",
        "outputId": "d3a28d7e-8331-49f6-b0c4-8030e9d7125d"
      },
      "execution_count": null,
      "outputs": [
        {
          "output_type": "stream",
          "name": "stdout",
          "text": [
            "|  0  |  0  |  0  |  0  |  0  |  0  |  0  |  0  |\n",
            "-------------------------------------------------\n",
            "|  0  |  0  |  0  |  0  |  0  |  0  |  0  |  0  |\n",
            "-------------------------------------------------\n",
            "|  0  |  0  |  0  |  0  |  0  |  0  |  0  |  0  |\n",
            "-------------------------------------------------\n",
            "|  0  |  0  |  0  |  0  |  0  |  3  |  0  |  3  |\n",
            "-------------------------------------------------\n",
            "|  0  |  0  |  0  |  0  |  3  |  0  |  0  |  0  |\n",
            "-------------------------------------------------\n",
            "|  0  |  5  |  0  |  0  |  0  |  0  |  33 |  0  |\n",
            "-------------------------------------------------\n",
            "|  0  |  0  |  0  |  0  |  3  |  0  |  0  |  0  |\n",
            "-------------------------------------------------\n",
            "|  0  |  0  |  0  |  0  |  0  |  3  |  0  |  3  |\n",
            "-------------------------------------------------\n",
            "Rook can kill\n"
          ]
        }
      ]
    }
  ]
}